{
 "cells": [
  {
   "cell_type": "code",
   "execution_count": 5,
   "id": "2c724263-744d-4fcb-8165-715dce1da663",
   "metadata": {},
   "outputs": [
    {
     "name": "stdout",
     "output_type": "stream",
     "text": [
      "{'_id': ObjectId('66812b91575263d5f8c6ac49'), 'key': 'value'}\n",
      "{'_id': ObjectId('66812b91575263d5f8c6ac4a'), 'key': 'value'}\n",
      "{'_id': ObjectId('66812b91575263d5f8c6ac4b'), 'key': 'value'}\n",
      "{'_id': ObjectId('66812b91575263d5f8c6ac4c'), 'key': 'value'}\n",
      "{'_id': ObjectId('66812b91575263d5f8c6ac4d'), 'key': 'value'}\n",
      "{'_id': ObjectId('66812b91575263d5f8c6ac4e'), 'key': 'value'}\n",
      "{'_id': ObjectId('66812b91575263d5f8c6ac4f'), 'key': 'value'}\n",
      "{'_id': ObjectId('66812b91575263d5f8c6ac50'), 'key': 'value'}\n",
      "{'_id': ObjectId('66812b91575263d5f8c6ac51'), 'key': 'value'}\n",
      "{'_id': ObjectId('66812b91575263d5f8c6ac52'), 'key': 'value'}\n"
     ]
    }
   ],
   "source": [
    "from pymongo import MongoClient\n",
    "\n",
    "\n",
    "# to log into express use username='admin' and password='pass'\n",
    "client = MongoClient(\"mongodb://localhost:27017\")\n",
    "                     #,username=\"admin\",password=\"password\",authSource=\"admin\",authMechanism=\"SCRAM-SHA-256\")\n",
    "\n",
    "db = client.weather_data\n",
    "collection = db.location\n",
    "\n",
    "#x = 0\n",
    "#while x < 10:\n",
    "#    collection.insert_one({'key':'value'})\n",
    "#    x += 1\n",
    "\n",
    "for x in collection.find():\n",
    "    print(x)"
   ]
  }
 ],
 "metadata": {
  "kernelspec": {
   "display_name": "Python 3 (ipykernel)",
   "language": "python",
   "name": "python3"
  },
  "language_info": {
   "codemirror_mode": {
    "name": "ipython",
    "version": 3
   },
   "file_extension": ".py",
   "mimetype": "text/x-python",
   "name": "python",
   "nbconvert_exporter": "python",
   "pygments_lexer": "ipython3",
   "version": "3.10.14"
  }
 },
 "nbformat": 4,
 "nbformat_minor": 5
}
